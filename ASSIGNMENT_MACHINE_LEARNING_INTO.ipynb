{
  "nbformat": 4,
  "nbformat_minor": 0,
  "metadata": {
    "colab": {
      "provenance": []
    },
    "kernelspec": {
      "name": "python3",
      "display_name": "Python 3"
    },
    "language_info": {
      "name": "python"
    }
  },
  "cells": [
    {
      "cell_type": "markdown",
      "source": [
        "**Question 1: Explain the differences between AI, ML, Deep Learning (DL), and Data Science (DS).**\n",
        "\n",
        "Answer: Here’s a clear breakdown of the differences between Artificial Intelligence (AI), Machine Learning (ML), Deep Learning (DL), and Data Science (DS):\n",
        "\n",
        "\n",
        "1. Artificial Intelligence (AI)\n",
        "\n",
        "Definition: AI is the broad field of creating systems that can perform tasks typically requiring human intelligence.\n",
        "\n",
        "Scope:\n",
        "\n",
        "• \tEncompasses reasoning, problem-solving, perception, language understanding, and decision-making.\n",
        "• \tIncludes both rule-based systems and learning-based systems.\n",
        "\n",
        "Examples:\n",
        "\n",
        "• \tChatbots, recommendation systems, autonomous vehicles, speech recognition.\n",
        "\n",
        "\n",
        "\n",
        "2. Machine Learning (ML)\n",
        "\n",
        "Definition: ML is a subset of AI that focuses on algorithms that allow computers to learn patterns from data and improve over time without being explicitly programmed.\n",
        "\n",
        "Scope:\n",
        "\n",
        "• \tUses statistical techniques to enable learning from data.\n",
        "• \tIncludes supervised, unsupervised, and reinforcement learning.\n",
        "\n",
        "Examples:\n",
        "\n",
        "• \tSpam detection, fraud detection, predictive maintenance.\n",
        "Relation to AI: ML is one way to achieve AI. All ML is AI, but not all AI is ML.\n",
        "\n",
        "\n",
        "\n",
        "3. Deep Learning (DL)\n",
        "\n",
        "Definition: DL is a subset of ML that uses neural networks with many layers (hence “deep”) to model complex patterns in data.\n",
        "\n",
        "Scope:\n",
        "\n",
        "• \tExcels at handling large volumes of unstructured data like images, audio, and text.\n",
        "• \tRequires significant computational power and data.\n",
        "\n",
        "Examples:\n",
        "\n",
        "• \tImage classification, speech-to-text, natural language translation.\n",
        "Relation to ML: DL is a specialized form of ML. All DL is ML, but not all ML is DL.\n",
        "\n",
        "\n",
        "\n",
        "4. Data Science (DS)\n",
        "\n",
        "Definition: DS is the interdisciplinary field that uses scientific methods, algorithms, and systems to extract insights and knowledge from structured and unstructured data.\n",
        "\n",
        "Scope:\n",
        "\n",
        "• \tCombines statistics, programming, domain expertise, and data visualization.\n",
        "• \tOften uses ML and DL as tools for analysis and prediction.\n",
        "\n",
        "Examples:\n",
        "\n",
        "• \tBusiness analytics, customer segmentation, market trend analysis.\n",
        "Relation to AI/ML/DL: DS uses AI/ML/DL techniques as part of its toolkit, but its focus is broader—centered on understanding and interpreting data.\n",
        "\n",
        "\n",
        "Summary\n",
        "\n",
        "Artificial Intelligence (AI)\n",
        "\n",
        "• \tFocus: Simulating human intelligence\n",
        "• \tSubset of: Not a subset; it's the overarching field\n",
        "• \tKey Techniques: Rule-based systems, machine learning\n",
        "• \tTypical Use Cases: Robotics, decision systems\n",
        "\n",
        "\n",
        "\n",
        "Machine Learning (ML)\n",
        "\n",
        "• \tFocus: Learning from data\n",
        "• \tSubset of: AI\n",
        "• \tKey Techniques: Regression, classification\n",
        "• \tTypical Use Cases: Forecasting, anomaly detection\n",
        "\n",
        "\n",
        "\n",
        "Deep Learning (DL)\n",
        "\n",
        "• \tFocus: Neural networks with many layers\n",
        "• \tSubset of: ML\n",
        "• \tKey Techniques: Convolutional Neural Networks (CNNs), Recurrent Neural Networks (RNNs), transformers\n",
        "• \tTypical Use Cases: Image recognition, voice assistants\n",
        "\n",
        "\n",
        "\n",
        "Data Science (DS)\n",
        "\n",
        "• \tFocus: Extracting insights from data\n",
        "• \tSubset of: Not a subset; it's a separate interdisciplinary field\n",
        "• \tKey Techniques: Statistics, ML/DL, data visualization\n",
        "• \tTypical Use Cases: Business intelligence, academic research"
      ],
      "metadata": {
        "id": "m_vsqngSrd9O"
      }
    },
    {
      "cell_type": "markdown",
      "source": [
        "**Question 2: What are the types of machine learning? Describe each with one real-world example.**\n",
        "\n",
        "Answer: Machine learning is typically categorized into three main types, each with distinct learning approaches and applications. Here's a concise overview:\n",
        "\n",
        "\n",
        "1. Supervised Learning\n",
        "\n",
        "Description:\n",
        "\n",
        "The model learns from labeled data, where each input is paired with a correct output. The goal is to learn a mapping from inputs to outputs.\n",
        "\n",
        "Real-World Example:\n",
        "\n",
        "Email spam detection — the system is trained on emails labeled as “spam” or “not spam” and learns to classify new emails accordingly.\n",
        "\n",
        "\n",
        "2. Unsupervised Learning\n",
        "\n",
        "Description:\n",
        "\n",
        "The model learns from unlabeled data by identifying patterns, structures, or groupings without predefined categories.\n",
        "\n",
        "Real-World Example:\n",
        "\n",
        "Customer segmentation — businesses use clustering algorithms to group customers based on purchasing behavior, demographics, or preferences.\n",
        "\n",
        "\n",
        "3. Reinforcement Learning\n",
        "\n",
        "Description:\n",
        "\n",
        "The model learns by interacting with an environment and receiving feedback in the form of rewards or penalties. It aims to maximize cumulative reward over time.\n",
        "\n",
        "Real-World Example:\n",
        "\n",
        "Self-driving cars — the system learns optimal driving strategies by receiving rewards for safe driving and penalties for errors like collisions or traffic violations.\n",
        "\n"
      ],
      "metadata": {
        "id": "he3e4tIysxsA"
      }
    },
    {
      "cell_type": "markdown",
      "source": [
        "**Question 3: Define overfitting, underfitting and the bias-variance tradeoff in machine learning.**\n",
        "\n",
        "Answer: Here’s a clear explanation of overfitting, underfitting, and the bias-variance tradeoff in machine learning:\n",
        "\n",
        "1. Overfitting\n",
        "\n",
        "Definition:\n",
        "\n",
        "Overfitting occurs when a model learns the training data too well, including its noise and outliers. As a result, it performs very well on training data but poorly on unseen or test data.\n",
        "\n",
        "Characteristics:\n",
        "\n",
        "• \tHigh accuracy on training data\n",
        "• \tLow accuracy on test data\n",
        "• \tModel is too complex for the amount of data\n",
        "\n",
        "Example:\n",
        "\n",
        "A decision tree that memorizes every training example instead of generalizing patterns.\n",
        "\n",
        "\n",
        "2. Underfitting\n",
        "\n",
        "Definition:\n",
        "\n",
        "Underfitting happens when a model is too simple to capture the underlying patterns in the data. It fails to perform well on both training and test data.\n",
        "\n",
        "Characteristics:\n",
        "\n",
        "• \tLow accuracy on training data\n",
        "• \tLow accuracy on test data\n",
        "• \tModel lacks complexity\n",
        "\n",
        "Example:\n",
        "\n",
        "Using linear regression to model a nonlinear relationship between variables.\n",
        "\n",
        "\n",
        "3. Bias-Variance Tradeoff\n",
        "\n",
        "Definition:\n",
        "\n",
        "This concept describes the balance between two sources of error in a model:\n",
        "• \tBias: Error due to overly simplistic assumptions. High bias leads to underfitting.\n",
        "• \tVariance: Error due to sensitivity to small fluctuations in the training data. High variance leads to overfitting.\n",
        "\n",
        "Tradeoff:\n",
        "\n",
        "• \tA model with high bias and low variance is too simple and underfits.\n",
        "• \tA model with low bias and high variance is too complex and overfits.\n",
        "• \tThe goal is to find a balance that minimizes total error on unseen data.\n",
        "\n",
        "Visualization Tip:\n",
        "\n",
        "Imagine fitting curves to data points:\n",
        "• \tUnderfitting: a straight line through scattered points\n",
        "• \tOverfitting: a wiggly curve that touches every point\n",
        "• \tBalanced fit: a smooth curve that captures the general trend\n"
      ],
      "metadata": {
        "id": "tL3Btqxrvzi4"
      }
    },
    {
      "cell_type": "markdown",
      "source": [
        "**Question 4: What are outliers in a dataset,and list three common techniques for handling them.**\n",
        "\n",
        "Answer: Outliers are data points that significantly differ from the majority of observations in a dataset. They can arise due to variability in the data, measurement errors, or rare events. Outliers can distort statistical analyses and model performance, especially in regression and clustering tasks.\n",
        "\n",
        "\n",
        "Common Techniques for Handling Outliers\n",
        "\n",
        "1. \tRemoval or Filtering\n",
        "\n",
        "• \tDescription: Identify and remove outliers based on statistical thresholds or domain knowledge.\n",
        "• \tExample: Removing data points beyond 3 standard deviations from the mean in a normally distributed dataset.\n",
        "\n",
        "\n",
        "2. \tTransformation\n",
        "\n",
        "• \tDescription: Apply mathematical transformations to reduce the impact of outliers.\n",
        "• \tExample: Using logarithmic or square root transformations to compress extreme values.\n",
        "\n",
        "\n",
        "3. \tImputation or Capping (Winsorization)\n",
        "\n",
        "• \tDescription: Replace outliers with more reasonable values, such as the nearest percentile or median.\n",
        "• \tExample: Capping values above the 95th percentile to the 95th percentile value.\n"
      ],
      "metadata": {
        "id": "LCPs2HGnwaXI"
      }
    },
    {
      "cell_type": "markdown",
      "source": [
        "**Question 5: Explain the process of handling missing values and mention one imputation technique for numerical and one for categorical data.**\n",
        "\n",
        "Answer: Handling missing values is a crucial step in data preprocessing to ensure the quality and reliability of machine learning models. Here's a structured explanation:\n",
        "\n",
        "Process of Handling Missing Values\n",
        "\n",
        "1. \tDetection\n",
        "\n",
        "• \tIdentify missing values using functions like  or  in Pandas.\n",
        "\n",
        "\n",
        "2. \tAssessment\n",
        "\n",
        "• \tAnalyze the pattern and proportion of missing data.\n",
        "• \tDetermine whether the missingness is random or systematic.\n",
        "\n",
        "\n",
        "3. \tDecision\n",
        "\n",
        "• \tChoose an appropriate strategy: remove, impute, or flag missing values.\n",
        "• \tThe choice depends on the amount of missing data and its impact on analysis.\n",
        "\n",
        "\n",
        "4. \tTreatment\n",
        "\n",
        "• \tApply the chosen method to handle missing values.\n",
        "\n",
        "\n",
        "\n",
        "Imputation Techniques\n",
        "\n",
        "• \tNumerical Data:\n",
        "Mean Imputation\n",
        "• \tReplace missing values with the mean of the non-missing values in the column.\n",
        "• \tExample in Pandas:\n"
      ],
      "metadata": {
        "id": "yPY0m7JnxZ14"
      }
    },
    {
      "cell_type": "code",
      "source": [
        "df['age'].fillna(df['age'].mean(), inplace=True)"
      ],
      "metadata": {
        "collapsed": true,
        "colab": {
          "base_uri": "https://localhost:8080/",
          "height": 141
        },
        "id": "W89jxCL9x-mw",
        "outputId": "ecfe2756-6409-45f8-95ac-61cc9da481fe"
      },
      "execution_count": 1,
      "outputs": [
        {
          "output_type": "error",
          "ename": "NameError",
          "evalue": "name 'df' is not defined",
          "traceback": [
            "\u001b[0;31m---------------------------------------------------------------------------\u001b[0m",
            "\u001b[0;31mNameError\u001b[0m                                 Traceback (most recent call last)",
            "\u001b[0;32m/tmp/ipython-input-1503503937.py\u001b[0m in \u001b[0;36m<cell line: 0>\u001b[0;34m()\u001b[0m\n\u001b[0;32m----> 1\u001b[0;31m \u001b[0mdf\u001b[0m\u001b[0;34m[\u001b[0m\u001b[0;34m'age'\u001b[0m\u001b[0;34m]\u001b[0m\u001b[0;34m.\u001b[0m\u001b[0mfillna\u001b[0m\u001b[0;34m(\u001b[0m\u001b[0mdf\u001b[0m\u001b[0;34m[\u001b[0m\u001b[0;34m'age'\u001b[0m\u001b[0;34m]\u001b[0m\u001b[0;34m.\u001b[0m\u001b[0mmean\u001b[0m\u001b[0;34m(\u001b[0m\u001b[0;34m)\u001b[0m\u001b[0;34m,\u001b[0m \u001b[0minplace\u001b[0m\u001b[0;34m=\u001b[0m\u001b[0;32mTrue\u001b[0m\u001b[0;34m)\u001b[0m\u001b[0;34m\u001b[0m\u001b[0;34m\u001b[0m\u001b[0m\n\u001b[0m",
            "\u001b[0;31mNameError\u001b[0m: name 'df' is not defined"
          ]
        }
      ]
    },
    {
      "cell_type": "markdown",
      "source": [
        "Categorical Data:\n",
        "\n",
        "Mode Imputation\n",
        "• \tReplace missing values with the most frequent category (mode).\n",
        "• \tExample in Pandas:"
      ],
      "metadata": {
        "id": "xp-GecbAyHyJ"
      }
    },
    {
      "cell_type": "code",
      "source": [
        "df['gender'].fillna(df['gender'].mode()[0], inplace=True)"
      ],
      "metadata": {
        "colab": {
          "base_uri": "https://localhost:8080/",
          "height": 141
        },
        "collapsed": true,
        "id": "4OxIRFDPyKtF",
        "outputId": "e07d2790-b1d8-47fe-90b8-13713649d414"
      },
      "execution_count": 2,
      "outputs": [
        {
          "output_type": "error",
          "ename": "NameError",
          "evalue": "name 'df' is not defined",
          "traceback": [
            "\u001b[0;31m---------------------------------------------------------------------------\u001b[0m",
            "\u001b[0;31mNameError\u001b[0m                                 Traceback (most recent call last)",
            "\u001b[0;32m/tmp/ipython-input-1062339567.py\u001b[0m in \u001b[0;36m<cell line: 0>\u001b[0;34m()\u001b[0m\n\u001b[0;32m----> 1\u001b[0;31m \u001b[0mdf\u001b[0m\u001b[0;34m[\u001b[0m\u001b[0;34m'gender'\u001b[0m\u001b[0;34m]\u001b[0m\u001b[0;34m.\u001b[0m\u001b[0mfillna\u001b[0m\u001b[0;34m(\u001b[0m\u001b[0mdf\u001b[0m\u001b[0;34m[\u001b[0m\u001b[0;34m'gender'\u001b[0m\u001b[0;34m]\u001b[0m\u001b[0;34m.\u001b[0m\u001b[0mmode\u001b[0m\u001b[0;34m(\u001b[0m\u001b[0;34m)\u001b[0m\u001b[0;34m[\u001b[0m\u001b[0;36m0\u001b[0m\u001b[0;34m]\u001b[0m\u001b[0;34m,\u001b[0m \u001b[0minplace\u001b[0m\u001b[0;34m=\u001b[0m\u001b[0;32mTrue\u001b[0m\u001b[0;34m)\u001b[0m\u001b[0;34m\u001b[0m\u001b[0;34m\u001b[0m\u001b[0m\n\u001b[0m",
            "\u001b[0;31mNameError\u001b[0m: name 'df' is not defined"
          ]
        }
      ]
    },
    {
      "cell_type": "markdown",
      "source": [
        "**Question 6: Write a Python program that:\n",
        "● Creates a synthetic imbalanced dataset with make_classification() from\n",
        "sklearn.datasets.\n",
        "● Prints the class distribution**\n",
        "\n",
        "Answer:"
      ],
      "metadata": {
        "id": "YkuyIcaOyPkJ"
      }
    },
    {
      "cell_type": "code",
      "source": [
        "from sklearn.datasets import make_classification\n",
        "from collections import Counter\n",
        "\n",
        "# Create synthetic imbalanced dataset\n",
        "X, y = make_classification(n_samples=1000,       # total samples\n",
        "                           n_features=20,        # number of features\n",
        "                           n_informative=2,      # number of informative features\n",
        "                           n_redundant=10,       # number of redundant features\n",
        "                           n_clusters_per_class=1,\n",
        "                           weights=[0.9, 0.1],    # imbalance ratio\n",
        "                           flip_y=0,             # no label noise\n",
        "                           random_state=42)      # reproducibility\n",
        "\n",
        "# Print class distribution\n",
        "class_distribution = Counter(y)\n",
        "print(\"Class distribution:\")\n",
        "for label, count in class_distribution.items():\n",
        "    print(f\"Class {label}: {count} samples\")"
      ],
      "metadata": {
        "colab": {
          "base_uri": "https://localhost:8080/"
        },
        "id": "S6OWGvBMydMy",
        "outputId": "5cf97a99-1d3c-4403-eeb6-faa6c33399f3"
      },
      "execution_count": 3,
      "outputs": [
        {
          "output_type": "stream",
          "name": "stdout",
          "text": [
            "Class distribution:\n",
            "Class 0: 900 samples\n",
            "Class 1: 100 samples\n"
          ]
        }
      ]
    },
    {
      "cell_type": "markdown",
      "source": [
        "**Question 7: Implement one-hot encoding using pandas for the following list of colors:\n",
        "['Red', 'Green', 'Blue', 'Green', 'Red']. Print the resulting dataframe**\n",
        "\n",
        " Answer:"
      ],
      "metadata": {
        "id": "3fTerDldyhon"
      }
    },
    {
      "cell_type": "code",
      "source": [
        "import pandas as pd\n",
        "\n",
        "# Original list of colors\n",
        "colors = ['Red', 'Green', 'Blue', 'Green', 'Red']\n",
        "\n",
        "# Create a DataFrame\n",
        "df = pd.DataFrame({'Color': colors})\n",
        "\n",
        "# Apply one-hot encoding\n",
        "encoded_df = pd.get_dummies(df, columns=['Color'])\n",
        "\n",
        "# Print the resulting DataFrame\n",
        "print(encoded_df)"
      ],
      "metadata": {
        "colab": {
          "base_uri": "https://localhost:8080/"
        },
        "id": "4e3u9tkLytnq",
        "outputId": "ee0d41c8-6b1c-4957-bb4c-276a02643fcf"
      },
      "execution_count": 4,
      "outputs": [
        {
          "output_type": "stream",
          "name": "stdout",
          "text": [
            "   Color_Blue  Color_Green  Color_Red\n",
            "0       False        False       True\n",
            "1       False         True      False\n",
            "2        True        False      False\n",
            "3       False         True      False\n",
            "4       False        False       True\n"
          ]
        }
      ]
    },
    {
      "cell_type": "markdown",
      "source": [
        "**Question 8: Write a Python script to:\n",
        "● Generate 1000 samples from a normal distribution.\n",
        "● Introduce 50 random missing values.\n",
        "● Fill missing values with the column mean.\n",
        "● Plot a histogram before and after imputation.**\n",
        "\n",
        "Answer:"
      ],
      "metadata": {
        "id": "v2I5wpKhyy0X"
      }
    },
    {
      "cell_type": "code",
      "source": [
        "import numpy as np\n",
        "import pandas as pd\n",
        "import matplotlib.pyplot as plt\n",
        "\n",
        "# Step 1: Generate 1000 samples from a normal distribution\n",
        "np.random.seed(42)\n",
        "data = np.random.normal(loc=0, scale=1, size=1000)\n",
        "\n",
        "# Step 2: Introduce 50 random missing values\n",
        "missing_indices = np.random.choice(1000, size=50, replace=False)\n",
        "data_with_nan = data.copy()\n",
        "data_with_nan[missing_indices] = np.nan\n",
        "\n",
        "# Step 3: Fill missing values with the column mean\n",
        "df = pd.DataFrame({'Values': data_with_nan})\n",
        "mean_value = df['Values'].mean()\n",
        "df['Imputed'] = df['Values'].fillna(mean_value)\n",
        "\n",
        "# Step 4: Plot histograms before and after imputation\n",
        "plt.figure(figsize=(10, 5))\n",
        "\n",
        "# Histogram before imputation\n",
        "plt.subplot(1, 2, 1)\n",
        "plt.hist(df['Values'].dropna(), bins=30, color='skyblue', edgecolor='black')\n",
        "plt.title('Before Imputation')\n",
        "plt.xlabel('Value')\n",
        "plt.ylabel('Frequency')\n",
        "\n",
        "# Histogram after imputation\n",
        "plt.subplot(1, 2, 2)\n",
        "plt.hist(df['Imputed'], bins=30, color='salmon', edgecolor='black')\n",
        "plt.title('After Imputation')\n",
        "plt.xlabel('Value')\n",
        "plt.ylabel('Frequency')\n",
        "\n",
        "plt.tight_layout()\n",
        "plt.show()"
      ],
      "metadata": {
        "colab": {
          "base_uri": "https://localhost:8080/",
          "height": 507
        },
        "id": "UhNZMhUky-Lg",
        "outputId": "e01fa9f0-0d22-4025-c982-ad9a60949b79"
      },
      "execution_count": 5,
      "outputs": [
        {
          "output_type": "display_data",
          "data": {
            "text/plain": [
              "<Figure size 1000x500 with 2 Axes>"
            ],
            "image/png": "[encoded data removed]"
          },
          "metadata": {}
        }
      ]
    },
    {
      "cell_type": "markdown",
      "source": [
        "**Question 9: Implement Min-Max scaling on the following list of numbers [2, 5, 10, 15,\n",
        "20] using sklearn.preprocessing.MinMaxScaler. Print the scaled array.**\n",
        "\n",
        "Answer:"
      ],
      "metadata": {
        "id": "qQHVGssLzF6R"
      }
    },
    {
      "cell_type": "code",
      "source": [
        "from sklearn.preprocessing import MinMaxScaler\n",
        "import numpy as np\n",
        "\n",
        "# Original data\n",
        "data = np.array([2, 5, 10, 15, 20]).reshape(-1, 1)\n",
        "\n",
        "# Initialize the scaler\n",
        "scaler = MinMaxScaler()\n",
        "\n",
        "# Apply Min-Max scaling\n",
        "scaled_data = scaler.fit_transform(data)\n",
        "\n",
        "# Print the scaled array\n",
        "print(\"Scaled array:\")\n",
        "print(scaled_data)"
      ],
      "metadata": {
        "colab": {
          "base_uri": "https://localhost:8080/"
        },
        "id": "TKsXKt-lzPb4",
        "outputId": "9df48a17-f575-4cc4-ff21-f3527cc009ce"
      },
      "execution_count": 6,
      "outputs": [
        {
          "output_type": "stream",
          "name": "stdout",
          "text": [
            "Scaled array:\n",
            "[[0.        ]\n",
            " [0.16666667]\n",
            " [0.44444444]\n",
            " [0.72222222]\n",
            " [1.        ]]\n"
          ]
        }
      ]
    },
    {
      "cell_type": "markdown",
      "source": [
        "**Question 10: You are working as a data scientist for a retail company. You receive a customer\n",
        "transaction dataset that contains:\n",
        "● Missing ages,\n",
        "● Outliers in transaction amount,\n",
        "● A highly imbalanced target (fraud vs. non-fraud),\n",
        "● Categorical variables like payment method.\n",
        "Explain the step-by-step data preparation plan you’d follow before training a machine learning\n",
        "model. Include how you’d address missing data, outliers, imbalance, and encoding.**\n",
        "\n",
        "Answer:  Here’s a structured, step-by-step data preparation plan tailored for a customer transaction dataset in a retail fraud detection context:\n",
        "\n",
        "Step 1: Initial Data Exploration\n",
        "\n",
        "• \tLoad the dataset and inspect structure using , , and .\n",
        "• \tCheck for missing values, data types, and class distribution of the target variable.\n",
        "\n",
        "\n",
        "Step 2: Handling Missing Data (e.g., Missing Ages)\n",
        "\n",
        "• \tAssess Missingness: Use  to quantify missing values.\n",
        "• \tImputation Strategy:\n",
        "• \tFor numerical features like age: use mean or median imputation depending on distribution."
      ],
      "metadata": {
        "id": "vr6KKA5NzVLG"
      }
    },
    {
      "cell_type": "code",
      "source": [
        "df['age'].fillna(df['age'].mean(), inplace=True)"
      ],
      "metadata": {
        "colab": {
          "base_uri": "https://localhost:8080/",
          "height": 547
        },
        "collapsed": true,
        "id": "nwu9NOL2zquv",
        "outputId": "384e1d40-440a-49a4-b3c8-f7a0857ee373"
      },
      "execution_count": 7,
      "outputs": [
        {
          "output_type": "error",
          "ename": "KeyError",
          "evalue": "'age'",
          "traceback": [
            "\u001b[0;31m---------------------------------------------------------------------------\u001b[0m",
            "\u001b[0;31mKeyError\u001b[0m                                  Traceback (most recent call last)",
            "\u001b[0;32m/usr/local/lib/python3.11/dist-packages/pandas/core/indexes/base.py\u001b[0m in \u001b[0;36mget_loc\u001b[0;34m(self, key)\u001b[0m\n\u001b[1;32m   3804\u001b[0m         \u001b[0;32mtry\u001b[0m\u001b[0;34m:\u001b[0m\u001b[0;34m\u001b[0m\u001b[0;34m\u001b[0m\u001b[0m\n\u001b[0;32m-> 3805\u001b[0;31m             \u001b[0;32mreturn\u001b[0m \u001b[0mself\u001b[0m\u001b[0;34m.\u001b[0m\u001b[0m_engine\u001b[0m\u001b[0;34m.\u001b[0m\u001b[0mget_loc\u001b[0m\u001b[0;34m(\u001b[0m\u001b[0mcasted_key\u001b[0m\u001b[0;34m)\u001b[0m\u001b[0;34m\u001b[0m\u001b[0;34m\u001b[0m\u001b[0m\n\u001b[0m\u001b[1;32m   3806\u001b[0m         \u001b[0;32mexcept\u001b[0m \u001b[0mKeyError\u001b[0m \u001b[0;32mas\u001b[0m \u001b[0merr\u001b[0m\u001b[0;34m:\u001b[0m\u001b[0;34m\u001b[0m\u001b[0;34m\u001b[0m\u001b[0m\n",
            "\u001b[0;32mindex.pyx\u001b[0m in \u001b[0;36mpandas._libs.index.IndexEngine.get_loc\u001b[0;34m()\u001b[0m\n",
            "\u001b[0;32mindex.pyx\u001b[0m in \u001b[0;36mpandas._libs.index.IndexEngine.get_loc\u001b[0;34m()\u001b[0m\n",
            "\u001b[0;32mpandas/_libs/hashtable_class_helper.pxi\u001b[0m in \u001b[0;36mpandas._libs.hashtable.PyObjectHashTable.get_item\u001b[0;34m()\u001b[0m\n",
            "\u001b[0;32mpandas/_libs/hashtable_class_helper.pxi\u001b[0m in \u001b[0;36mpandas._libs.hashtable.PyObjectHashTable.get_item\u001b[0;34m()\u001b[0m\n",
            "\u001b[0;31mKeyError\u001b[0m: 'age'",
            "\nThe above exception was the direct cause of the following exception:\n",
            "\u001b[0;31mKeyError\u001b[0m                                  Traceback (most recent call last)",
            "\u001b[0;32m/tmp/ipython-input-1503503937.py\u001b[0m in \u001b[0;36m<cell line: 0>\u001b[0;34m()\u001b[0m\n\u001b[0;32m----> 1\u001b[0;31m \u001b[0mdf\u001b[0m\u001b[0;34m[\u001b[0m\u001b[0;34m'age'\u001b[0m\u001b[0;34m]\u001b[0m\u001b[0;34m.\u001b[0m\u001b[0mfillna\u001b[0m\u001b[0;34m(\u001b[0m\u001b[0mdf\u001b[0m\u001b[0;34m[\u001b[0m\u001b[0;34m'age'\u001b[0m\u001b[0;34m]\u001b[0m\u001b[0;34m.\u001b[0m\u001b[0mmean\u001b[0m\u001b[0;34m(\u001b[0m\u001b[0;34m)\u001b[0m\u001b[0;34m,\u001b[0m \u001b[0minplace\u001b[0m\u001b[0;34m=\u001b[0m\u001b[0;32mTrue\u001b[0m\u001b[0;34m)\u001b[0m\u001b[0;34m\u001b[0m\u001b[0;34m\u001b[0m\u001b[0m\n\u001b[0m",
            "\u001b[0;32m/usr/local/lib/python3.11/dist-packages/pandas/core/frame.py\u001b[0m in \u001b[0;36m__getitem__\u001b[0;34m(self, key)\u001b[0m\n\u001b[1;32m   4100\u001b[0m             \u001b[0;32mif\u001b[0m \u001b[0mself\u001b[0m\u001b[0;34m.\u001b[0m\u001b[0mcolumns\u001b[0m\u001b[0;34m.\u001b[0m\u001b[0mnlevels\u001b[0m \u001b[0;34m>\u001b[0m \u001b[0;36m1\u001b[0m\u001b[0;34m:\u001b[0m\u001b[0;34m\u001b[0m\u001b[0;34m\u001b[0m\u001b[0m\n\u001b[1;32m   4101\u001b[0m                 \u001b[0;32mreturn\u001b[0m \u001b[0mself\u001b[0m\u001b[0;34m.\u001b[0m\u001b[0m_getitem_multilevel\u001b[0m\u001b[0;34m(\u001b[0m\u001b[0mkey\u001b[0m\u001b[0;34m)\u001b[0m\u001b[0;34m\u001b[0m\u001b[0;34m\u001b[0m\u001b[0m\n\u001b[0;32m-> 4102\u001b[0;31m             \u001b[0mindexer\u001b[0m \u001b[0;34m=\u001b[0m \u001b[0mself\u001b[0m\u001b[0;34m.\u001b[0m\u001b[0mcolumns\u001b[0m\u001b[0;34m.\u001b[0m\u001b[0mget_loc\u001b[0m\u001b[0;34m(\u001b[0m\u001b[0mkey\u001b[0m\u001b[0;34m)\u001b[0m\u001b[0;34m\u001b[0m\u001b[0;34m\u001b[0m\u001b[0m\n\u001b[0m\u001b[1;32m   4103\u001b[0m             \u001b[0;32mif\u001b[0m \u001b[0mis_integer\u001b[0m\u001b[0;34m(\u001b[0m\u001b[0mindexer\u001b[0m\u001b[0;34m)\u001b[0m\u001b[0;34m:\u001b[0m\u001b[0;34m\u001b[0m\u001b[0;34m\u001b[0m\u001b[0m\n\u001b[1;32m   4104\u001b[0m                 \u001b[0mindexer\u001b[0m \u001b[0;34m=\u001b[0m \u001b[0;34m[\u001b[0m\u001b[0mindexer\u001b[0m\u001b[0;34m]\u001b[0m\u001b[0;34m\u001b[0m\u001b[0;34m\u001b[0m\u001b[0m\n",
            "\u001b[0;32m/usr/local/lib/python3.11/dist-packages/pandas/core/indexes/base.py\u001b[0m in \u001b[0;36mget_loc\u001b[0;34m(self, key)\u001b[0m\n\u001b[1;32m   3810\u001b[0m             ):\n\u001b[1;32m   3811\u001b[0m                 \u001b[0;32mraise\u001b[0m \u001b[0mInvalidIndexError\u001b[0m\u001b[0;34m(\u001b[0m\u001b[0mkey\u001b[0m\u001b[0;34m)\u001b[0m\u001b[0;34m\u001b[0m\u001b[0;34m\u001b[0m\u001b[0m\n\u001b[0;32m-> 3812\u001b[0;31m             \u001b[0;32mraise\u001b[0m \u001b[0mKeyError\u001b[0m\u001b[0;34m(\u001b[0m\u001b[0mkey\u001b[0m\u001b[0;34m)\u001b[0m \u001b[0;32mfrom\u001b[0m \u001b[0merr\u001b[0m\u001b[0;34m\u001b[0m\u001b[0;34m\u001b[0m\u001b[0m\n\u001b[0m\u001b[1;32m   3813\u001b[0m         \u001b[0;32mexcept\u001b[0m \u001b[0mTypeError\u001b[0m\u001b[0;34m:\u001b[0m\u001b[0;34m\u001b[0m\u001b[0;34m\u001b[0m\u001b[0m\n\u001b[1;32m   3814\u001b[0m             \u001b[0;31m# If we have a listlike key, _check_indexing_error will raise\u001b[0m\u001b[0;34m\u001b[0m\u001b[0;34m\u001b[0m\u001b[0m\n",
            "\u001b[0;31mKeyError\u001b[0m: 'age'"
          ]
        }
      ]
    },
    {
      "cell_type": "markdown",
      "source": [
        "• \tIf age correlates with other features (e.g., customer segment), consider group-based imputation.\n",
        "\n",
        "Step 3: Handling Outliers (e.g., Transaction Amount)\n",
        "\n",
        "• \tDetection:\n",
        "• \tUse boxplots, z-scores, or IQR method to identify outliers.\n",
        "• \tTreatment Options:\n",
        "• \tCapping (Winsorization): Limit extreme values to a percentile threshold.\n",
        "• \tLog Transformation: Compress the scale of large values.\n",
        "• \tRemoval: Drop extreme outliers if they are errors and not valid rare events.\n",
        "\n",
        "Step 4: Addressing Class Imbalance (Fraud vs. Non-Fraud)\n",
        "\n",
        "• \tAssessment: Use  to check imbalance ratio.\n",
        "• \tResampling Techniques:\n",
        "• \tOversampling: Use SMOTE or RandomOverSampler to increase minority class.\n",
        "• \tUndersampling: Reduce majority class size if dataset is large.\n",
        "• \tClass Weights: Use model parameters to penalize misclassification of minority class."
      ],
      "metadata": {
        "id": "DCjuipE9zxk0"
      }
    },
    {
      "cell_type": "code",
      "source": [
        "model.fit(X, y, class_weight='balanced')"
      ],
      "metadata": {
        "collapsed": true,
        "colab": {
          "base_uri": "https://localhost:8080/",
          "height": 141
        },
        "id": "RymoLxM4z3E4",
        "outputId": "1cdf7267-851f-4bd1-ce71-73bf312e468c"
      },
      "execution_count": 8,
      "outputs": [
        {
          "output_type": "error",
          "ename": "NameError",
          "evalue": "name 'model' is not defined",
          "traceback": [
            "\u001b[0;31m---------------------------------------------------------------------------\u001b[0m",
            "\u001b[0;31mNameError\u001b[0m                                 Traceback (most recent call last)",
            "\u001b[0;32m/tmp/ipython-input-3993595051.py\u001b[0m in \u001b[0;36m<cell line: 0>\u001b[0;34m()\u001b[0m\n\u001b[0;32m----> 1\u001b[0;31m \u001b[0mmodel\u001b[0m\u001b[0;34m.\u001b[0m\u001b[0mfit\u001b[0m\u001b[0;34m(\u001b[0m\u001b[0mX\u001b[0m\u001b[0;34m,\u001b[0m \u001b[0my\u001b[0m\u001b[0;34m,\u001b[0m \u001b[0mclass_weight\u001b[0m\u001b[0;34m=\u001b[0m\u001b[0;34m'balanced'\u001b[0m\u001b[0;34m)\u001b[0m\u001b[0;34m\u001b[0m\u001b[0;34m\u001b[0m\u001b[0m\n\u001b[0m",
            "\u001b[0;31mNameError\u001b[0m: name 'model' is not defined"
          ]
        }
      ]
    },
    {
      "cell_type": "markdown",
      "source": [
        "• \tOrdinal Encoding: If categories have a meaningful order.\n",
        "• \tFrequency Encoding: For high-cardinality features.\n",
        "\n",
        "\n",
        "Step 6: Feature Scaling\n",
        "\n",
        "• \tApply Min-Max Scaling or Standardization to numerical features, especially if using distance-based models like KNN or SVM.\n",
        "\n",
        "\n",
        "\n",
        "Step 7: Final Checks and Splitting\n",
        "\n",
        "• \tEnsure no remaining missing values or data type issues.\n",
        "• \tSplit data into training and test sets using  with stratification on the target variable.\n",
        "\n",
        "\n",
        "\n",
        "Step 8: Model Training and Evaluation\n",
        "\n",
        "• \tTrain model using cleaned data.\n",
        "• \tEvaluate using metrics suitable for imbalanced data: precision, recall, F1-score, ROC-AUC.\n",
        "\n"
      ],
      "metadata": {
        "id": "QMmOYPnPz9Vq"
      }
    }
  ]
}